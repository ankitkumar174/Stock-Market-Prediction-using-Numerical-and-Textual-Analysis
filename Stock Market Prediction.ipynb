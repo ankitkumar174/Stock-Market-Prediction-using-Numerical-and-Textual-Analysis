{
 "cells": [
  {
   "cell_type": "markdown",
   "id": "9bc14c30",
   "metadata": {},
   "source": [
    "# Author: Ankit Kumar\n",
    "\n",
    "# The Sparks Foundation\n",
    "\n",
    "# Stock Market Prediction using Numerical and Textual Analysis\n",
    "\n",
    "# Objective: Create a hybrid model for stock price/performance prediction using numerical analysis of historical stock prices, and sentimental analysis of news headlines"
   ]
  },
  {
   "cell_type": "markdown",
   "id": "9ba2b1e2",
   "metadata": {},
   "source": [
    "# Importing Libraries"
   ]
  },
  {
   "cell_type": "code",
   "execution_count": 2,
   "id": "b865802b",
   "metadata": {},
   "outputs": [],
   "source": [
    "import pandas as pd\n",
    "import numpy as np\n",
    "import matplotlib.pyplot as plt\n",
    "from sklearn.metrics import accuracy_score\n",
    "import warnings\n",
    "warnings.filterwarnings('ignore')\n",
    "import nltk  \n",
    "from nltk.corpus import stopwords \n",
    "from nltk.stem.porter import PorterStemmer \n",
    "import re"
   ]
  },
  {
   "cell_type": "markdown",
   "id": "1f91a1f1",
   "metadata": {},
   "source": [
    "# Reading Data File"
   ]
  },
  {
   "cell_type": "code",
   "execution_count": null,
   "id": "f7be7615",
   "metadata": {},
   "outputs": [],
   "source": [
    "#### Samsung Stock Dataset #####\n",
    "df_stock = pd.read_csv(\"C:\\\\Users\\\\ankit\\\\Downloads\\\\005930.KS.csv\")\n",
    "df_stock.head()"
   ]
  },
  {
   "cell_type": "code",
   "execution_count": null,
   "id": "f7bd9ff6",
   "metadata": {},
   "outputs": [],
   "source": [
    "#### News Headline Dataset #####\n",
    "df_headline = pd.read_csv(\"C:\\\\Users\\\\ankit\\\\Downloads\\\\india-news-headlines.csv\")\n",
    "df_headline.head()"
   ]
  },
  {
   "cell_type": "code",
   "execution_count": 4,
   "id": "7a0290cc",
   "metadata": {},
   "outputs": [
    {
     "data": {
      "text/plain": [
       "Date         0\n",
       "Open         6\n",
       "High         6\n",
       "Low          6\n",
       "Close        6\n",
       "Adj Close    6\n",
       "Volume       6\n",
       "dtype: int64"
      ]
     },
     "execution_count": 4,
     "metadata": {},
     "output_type": "execute_result"
    }
   ],
   "source": [
    "df_stock.isnull().sum()"
   ]
  },
  {
   "cell_type": "code",
   "execution_count": 5,
   "id": "0ff981b5",
   "metadata": {},
   "outputs": [],
   "source": [
    "#### Handling Missing Values ####\n",
    "for i in [\"Open\",\"High\",\"Low\",\"Close\",\"Adj Close\",\"Volume\"]:\n",
    "    df_stock[i].fillna(df_stock[i].mean(),inplace=True)"
   ]
  },
  {
   "cell_type": "code",
   "execution_count": 6,
   "id": "3240f548",
   "metadata": {},
   "outputs": [
    {
     "data": {
      "text/plain": [
       "Date         0\n",
       "Open         0\n",
       "High         0\n",
       "Low          0\n",
       "Close        0\n",
       "Adj Close    0\n",
       "Volume       0\n",
       "dtype: int64"
      ]
     },
     "execution_count": 6,
     "metadata": {},
     "output_type": "execute_result"
    }
   ],
   "source": [
    "df_stock.isnull().sum()"
   ]
  },
  {
   "cell_type": "code",
   "execution_count": 7,
   "id": "93345d39",
   "metadata": {},
   "outputs": [],
   "source": [
    "df_headline.drop(columns=[\"headline_category\"],inplace=True)"
   ]
  },
  {
   "cell_type": "markdown",
   "id": "d5264ff6",
   "metadata": {},
   "source": [
    "# Setting date as a index"
   ]
  },
  {
   "cell_type": "code",
   "execution_count": null,
   "id": "3ce1297e",
   "metadata": {},
   "outputs": [],
   "source": [
    "##### Stock price Data ######\n",
    "df_stock['Date']=pd.to_datetime(df_stock['Date']) \n",
    "\n",
    "##### News Headlines Data #####\n",
    "df_headline['publish_date'] = df_headline['publish_date'].astype(str)\n",
    "df_headline = df_headline.filter(['publish_date', 'headline_text'])   # filtering the important columns required\n",
    "df_headline = df_headline.groupby(['publish_date'])['headline_text'].apply(lambda x: ','.join(x)).reset_index()  # grouping the news headlines according to 'Date'\n",
    "df_headline['publish_date']=pd.to_datetime(df_headline['publish_date'])"
   ]
  },
  {
   "cell_type": "code",
   "execution_count": 9,
   "id": "d3b5b093",
   "metadata": {},
   "outputs": [
    {
     "data": {
      "text/html": [
       "<div>\n",
       "<style scoped>\n",
       "    .dataframe tbody tr th:only-of-type {\n",
       "        vertical-align: middle;\n",
       "    }\n",
       "\n",
       "    .dataframe tbody tr th {\n",
       "        vertical-align: top;\n",
       "    }\n",
       "\n",
       "    .dataframe thead th {\n",
       "        text-align: right;\n",
       "    }\n",
       "</style>\n",
       "<table border=\"1\" class=\"dataframe\">\n",
       "  <thead>\n",
       "    <tr style=\"text-align: right;\">\n",
       "      <th></th>\n",
       "      <th>Open</th>\n",
       "      <th>High</th>\n",
       "      <th>Low</th>\n",
       "      <th>Close</th>\n",
       "      <th>Adj Close</th>\n",
       "      <th>Volume</th>\n",
       "    </tr>\n",
       "    <tr>\n",
       "      <th>Date</th>\n",
       "      <th></th>\n",
       "      <th></th>\n",
       "      <th></th>\n",
       "      <th></th>\n",
       "      <th></th>\n",
       "      <th></th>\n",
       "    </tr>\n",
       "  </thead>\n",
       "  <tbody>\n",
       "    <tr>\n",
       "      <th>2000-01-04</th>\n",
       "      <td>6000.0</td>\n",
       "      <td>6110.0</td>\n",
       "      <td>5660.0</td>\n",
       "      <td>6110.0</td>\n",
       "      <td>4719.226074</td>\n",
       "      <td>74195000.0</td>\n",
       "    </tr>\n",
       "    <tr>\n",
       "      <th>2000-01-05</th>\n",
       "      <td>5800.0</td>\n",
       "      <td>6060.0</td>\n",
       "      <td>5520.0</td>\n",
       "      <td>5580.0</td>\n",
       "      <td>4309.866211</td>\n",
       "      <td>74680000.0</td>\n",
       "    </tr>\n",
       "    <tr>\n",
       "      <th>2000-01-06</th>\n",
       "      <td>5750.0</td>\n",
       "      <td>5780.0</td>\n",
       "      <td>5580.0</td>\n",
       "      <td>5620.0</td>\n",
       "      <td>4340.761230</td>\n",
       "      <td>54390000.0</td>\n",
       "    </tr>\n",
       "    <tr>\n",
       "      <th>2000-01-07</th>\n",
       "      <td>5560.0</td>\n",
       "      <td>5670.0</td>\n",
       "      <td>5360.0</td>\n",
       "      <td>5540.0</td>\n",
       "      <td>4278.971680</td>\n",
       "      <td>40305000.0</td>\n",
       "    </tr>\n",
       "    <tr>\n",
       "      <th>2000-01-10</th>\n",
       "      <td>5600.0</td>\n",
       "      <td>5770.0</td>\n",
       "      <td>5580.0</td>\n",
       "      <td>5770.0</td>\n",
       "      <td>4456.618652</td>\n",
       "      <td>46880000.0</td>\n",
       "    </tr>\n",
       "  </tbody>\n",
       "</table>\n",
       "</div>"
      ],
      "text/plain": [
       "              Open    High     Low   Close    Adj Close      Volume\n",
       "Date                                                               \n",
       "2000-01-04  6000.0  6110.0  5660.0  6110.0  4719.226074  74195000.0\n",
       "2000-01-05  5800.0  6060.0  5520.0  5580.0  4309.866211  74680000.0\n",
       "2000-01-06  5750.0  5780.0  5580.0  5620.0  4340.761230  54390000.0\n",
       "2000-01-07  5560.0  5670.0  5360.0  5540.0  4278.971680  40305000.0\n",
       "2000-01-10  5600.0  5770.0  5580.0  5770.0  4456.618652  46880000.0"
      ]
     },
     "execution_count": 9,
     "metadata": {},
     "output_type": "execute_result"
    }
   ],
   "source": [
    "df_stock.set_index('Date',inplace=True)\n",
    "df_stock.head()"
   ]
  },
  {
   "cell_type": "code",
   "execution_count": 10,
   "id": "41712e3a",
   "metadata": {},
   "outputs": [
    {
     "data": {
      "text/html": [
       "<div>\n",
       "<style scoped>\n",
       "    .dataframe tbody tr th:only-of-type {\n",
       "        vertical-align: middle;\n",
       "    }\n",
       "\n",
       "    .dataframe tbody tr th {\n",
       "        vertical-align: top;\n",
       "    }\n",
       "\n",
       "    .dataframe thead th {\n",
       "        text-align: right;\n",
       "    }\n",
       "</style>\n",
       "<table border=\"1\" class=\"dataframe\">\n",
       "  <thead>\n",
       "    <tr style=\"text-align: right;\">\n",
       "      <th></th>\n",
       "      <th>headline_text</th>\n",
       "    </tr>\n",
       "    <tr>\n",
       "      <th>publish_date</th>\n",
       "      <th></th>\n",
       "    </tr>\n",
       "  </thead>\n",
       "  <tbody>\n",
       "    <tr>\n",
       "      <th>2001-01-02</th>\n",
       "      <td>Status quo will not be disturbed at Ayodhya; s...</td>\n",
       "    </tr>\n",
       "    <tr>\n",
       "      <th>2001-01-03</th>\n",
       "      <td>Powerless north India gropes in the dark,Think...</td>\n",
       "    </tr>\n",
       "    <tr>\n",
       "      <th>2001-01-04</th>\n",
       "      <td>The string that pulled Stephen Hawking to Indi...</td>\n",
       "    </tr>\n",
       "    <tr>\n",
       "      <th>2001-01-05</th>\n",
       "      <td>Light combat craft takes India into club class...</td>\n",
       "    </tr>\n",
       "    <tr>\n",
       "      <th>2001-01-06</th>\n",
       "      <td>Light combat craft takes India into club class...</td>\n",
       "    </tr>\n",
       "  </tbody>\n",
       "</table>\n",
       "</div>"
      ],
      "text/plain": [
       "                                                  headline_text\n",
       "publish_date                                                   \n",
       "2001-01-02    Status quo will not be disturbed at Ayodhya; s...\n",
       "2001-01-03    Powerless north India gropes in the dark,Think...\n",
       "2001-01-04    The string that pulled Stephen Hawking to Indi...\n",
       "2001-01-05    Light combat craft takes India into club class...\n",
       "2001-01-06    Light combat craft takes India into club class..."
      ]
     },
     "execution_count": 10,
     "metadata": {},
     "output_type": "execute_result"
    }
   ],
   "source": [
    "df_headline.set_index('publish_date',inplace=True)\n",
    "df_headline.head()"
   ]
  },
  {
   "cell_type": "markdown",
   "id": "3a720640",
   "metadata": {},
   "source": [
    "# Combining Samsung Stock Dataset and News Headline Dataset"
   ]
  },
  {
   "cell_type": "code",
   "execution_count": 11,
   "id": "7365a83f",
   "metadata": {},
   "outputs": [
    {
     "data": {
      "text/html": [
       "<div>\n",
       "<style scoped>\n",
       "    .dataframe tbody tr th:only-of-type {\n",
       "        vertical-align: middle;\n",
       "    }\n",
       "\n",
       "    .dataframe tbody tr th {\n",
       "        vertical-align: top;\n",
       "    }\n",
       "\n",
       "    .dataframe thead th {\n",
       "        text-align: right;\n",
       "    }\n",
       "</style>\n",
       "<table border=\"1\" class=\"dataframe\">\n",
       "  <thead>\n",
       "    <tr style=\"text-align: right;\">\n",
       "      <th></th>\n",
       "      <th>Open</th>\n",
       "      <th>High</th>\n",
       "      <th>Low</th>\n",
       "      <th>Close</th>\n",
       "      <th>Adj Close</th>\n",
       "      <th>Volume</th>\n",
       "      <th>headline_text</th>\n",
       "    </tr>\n",
       "  </thead>\n",
       "  <tbody>\n",
       "    <tr>\n",
       "      <th>2001-01-02</th>\n",
       "      <td>3160.0</td>\n",
       "      <td>3380.0</td>\n",
       "      <td>3140.0</td>\n",
       "      <td>3350.0</td>\n",
       "      <td>2587.465332</td>\n",
       "      <td>39455000.0</td>\n",
       "      <td>Status quo will not be disturbed at Ayodhya; s...</td>\n",
       "    </tr>\n",
       "    <tr>\n",
       "      <th>2001-01-03</th>\n",
       "      <td>3230.0</td>\n",
       "      <td>3420.0</td>\n",
       "      <td>3220.0</td>\n",
       "      <td>3370.0</td>\n",
       "      <td>2602.911865</td>\n",
       "      <td>37855000.0</td>\n",
       "      <td>Powerless north India gropes in the dark,Think...</td>\n",
       "    </tr>\n",
       "    <tr>\n",
       "      <th>2001-01-04</th>\n",
       "      <td>3790.0</td>\n",
       "      <td>3870.0</td>\n",
       "      <td>3660.0</td>\n",
       "      <td>3780.0</td>\n",
       "      <td>2919.587402</td>\n",
       "      <td>119910000.0</td>\n",
       "      <td>The string that pulled Stephen Hawking to Indi...</td>\n",
       "    </tr>\n",
       "    <tr>\n",
       "      <th>2001-01-05</th>\n",
       "      <td>3760.0</td>\n",
       "      <td>3920.0</td>\n",
       "      <td>3700.0</td>\n",
       "      <td>3900.0</td>\n",
       "      <td>3012.272705</td>\n",
       "      <td>78135000.0</td>\n",
       "      <td>Light combat craft takes India into club class...</td>\n",
       "    </tr>\n",
       "    <tr>\n",
       "      <th>2001-01-08</th>\n",
       "      <td>3820.0</td>\n",
       "      <td>3910.0</td>\n",
       "      <td>3780.0</td>\n",
       "      <td>3880.0</td>\n",
       "      <td>2996.824707</td>\n",
       "      <td>42295000.0</td>\n",
       "      <td>Sangh Parivar; Babri panel up the ante,Frontru...</td>\n",
       "    </tr>\n",
       "  </tbody>\n",
       "</table>\n",
       "</div>"
      ],
      "text/plain": [
       "              Open    High     Low   Close    Adj Close       Volume  \\\n",
       "2001-01-02  3160.0  3380.0  3140.0  3350.0  2587.465332   39455000.0   \n",
       "2001-01-03  3230.0  3420.0  3220.0  3370.0  2602.911865   37855000.0   \n",
       "2001-01-04  3790.0  3870.0  3660.0  3780.0  2919.587402  119910000.0   \n",
       "2001-01-05  3760.0  3920.0  3700.0  3900.0  3012.272705   78135000.0   \n",
       "2001-01-08  3820.0  3910.0  3780.0  3880.0  2996.824707   42295000.0   \n",
       "\n",
       "                                                headline_text  \n",
       "2001-01-02  Status quo will not be disturbed at Ayodhya; s...  \n",
       "2001-01-03  Powerless north India gropes in the dark,Think...  \n",
       "2001-01-04  The string that pulled Stephen Hawking to Indi...  \n",
       "2001-01-05  Light combat craft takes India into club class...  \n",
       "2001-01-08  Sangh Parivar; Babri panel up the ante,Frontru...  "
      ]
     },
     "execution_count": 11,
     "metadata": {},
     "output_type": "execute_result"
    }
   ],
   "source": [
    "stock_market=pd.concat([df_stock,df_headline],axis=1)\n",
    "stock_market.dropna(axis=0,inplace=True)\n",
    "stock_market.head()"
   ]
  },
  {
   "cell_type": "markdown",
   "id": "9502c4ae",
   "metadata": {},
   "source": [
    "# Cleaning the textual data by using Natural Language Preprocessing (NLP)"
   ]
  },
  {
   "cell_type": "code",
   "execution_count": 12,
   "id": "da7ab8d3",
   "metadata": {},
   "outputs": [],
   "source": [
    "lent=len(stock_market) \n",
    "corpus111=[]\n",
    "for i in range(0,lent):\n",
    "    text = re.sub('[^a-zA-Z]', ' ', stock_market.iloc[i,6])\n",
    "    text = text.lower()\n",
    "    text = text.split()\n",
    "    ps = PorterStemmer()\n",
    "    all_stopwords = stopwords.words('english')     \n",
    "    text = [ps.stem(word) for word in text if not word in   set(all_stopwords)]\n",
    "    text = ' '.join(text)\n",
    "    corpus111.append(text)  \n",
    "    \n",
    "stock_market['headline_text']=corpus111    "
   ]
  },
  {
   "cell_type": "markdown",
   "id": "b7b28eaa",
   "metadata": {},
   "source": [
    "# Calculating Sentiment Score "
   ]
  },
  {
   "cell_type": "code",
   "execution_count": 13,
   "id": "ec204ad8",
   "metadata": {},
   "outputs": [],
   "source": [
    "from nltk.sentiment.vader import SentimentIntensityAnalyzer\n",
    "import unicodedata\n",
    "\n",
    "sid = SentimentIntensityAnalyzer()\n",
    "\n",
    "# calculating sentiment scores\n",
    "stock_market['Compound'] = stock_market['headline_text'].apply(lambda x: sid.polarity_scores(x)['compound'])\n",
    "stock_market['Negative'] = stock_market['headline_text'].apply(lambda x: sid.polarity_scores(x)['neg'])\n",
    "stock_market['Neutral'] = stock_market['headline_text'].apply(lambda x: sid.polarity_scores(x)['neu'])\n",
    "stock_market['Positive'] = stock_market['headline_text'].apply(lambda x: sid.polarity_scores(x)['pos'])\n",
    "\n"
   ]
  },
  {
   "cell_type": "code",
   "execution_count": 14,
   "id": "21618ce2",
   "metadata": {},
   "outputs": [
    {
     "data": {
      "text/html": [
       "<div>\n",
       "<style scoped>\n",
       "    .dataframe tbody tr th:only-of-type {\n",
       "        vertical-align: middle;\n",
       "    }\n",
       "\n",
       "    .dataframe tbody tr th {\n",
       "        vertical-align: top;\n",
       "    }\n",
       "\n",
       "    .dataframe thead th {\n",
       "        text-align: right;\n",
       "    }\n",
       "</style>\n",
       "<table border=\"1\" class=\"dataframe\">\n",
       "  <thead>\n",
       "    <tr style=\"text-align: right;\">\n",
       "      <th></th>\n",
       "      <th>Open</th>\n",
       "      <th>High</th>\n",
       "      <th>Low</th>\n",
       "      <th>Close</th>\n",
       "      <th>Adj Close</th>\n",
       "      <th>Volume</th>\n",
       "      <th>headline_text</th>\n",
       "      <th>Compound</th>\n",
       "      <th>Negative</th>\n",
       "      <th>Neutral</th>\n",
       "      <th>Positive</th>\n",
       "    </tr>\n",
       "  </thead>\n",
       "  <tbody>\n",
       "    <tr>\n",
       "      <th>2001-01-02</th>\n",
       "      <td>3160.0</td>\n",
       "      <td>3380.0</td>\n",
       "      <td>3140.0</td>\n",
       "      <td>3350.0</td>\n",
       "      <td>2587.465332</td>\n",
       "      <td>39455000.0</td>\n",
       "      <td>statu quo disturb ayodhya say vajpaye fissur h...</td>\n",
       "      <td>-0.8555</td>\n",
       "      <td>0.125</td>\n",
       "      <td>0.773</td>\n",
       "      <td>0.102</td>\n",
       "    </tr>\n",
       "    <tr>\n",
       "      <th>2001-01-03</th>\n",
       "      <td>3230.0</td>\n",
       "      <td>3420.0</td>\n",
       "      <td>3220.0</td>\n",
       "      <td>3370.0</td>\n",
       "      <td>2602.911865</td>\n",
       "      <td>37855000.0</td>\n",
       "      <td>powerless north india grope dark think laxman ...</td>\n",
       "      <td>-0.5994</td>\n",
       "      <td>0.132</td>\n",
       "      <td>0.755</td>\n",
       "      <td>0.113</td>\n",
       "    </tr>\n",
       "    <tr>\n",
       "      <th>2001-01-04</th>\n",
       "      <td>3790.0</td>\n",
       "      <td>3870.0</td>\n",
       "      <td>3660.0</td>\n",
       "      <td>3780.0</td>\n",
       "      <td>2919.587402</td>\n",
       "      <td>119910000.0</td>\n",
       "      <td>string pull stephen hawk india vajpaye give bi...</td>\n",
       "      <td>0.9169</td>\n",
       "      <td>0.099</td>\n",
       "      <td>0.791</td>\n",
       "      <td>0.110</td>\n",
       "    </tr>\n",
       "    <tr>\n",
       "      <th>2001-01-05</th>\n",
       "      <td>3760.0</td>\n",
       "      <td>3920.0</td>\n",
       "      <td>3700.0</td>\n",
       "      <td>3900.0</td>\n",
       "      <td>3012.272705</td>\n",
       "      <td>78135000.0</td>\n",
       "      <td>light combat craft take india club class hawk ...</td>\n",
       "      <td>-0.3612</td>\n",
       "      <td>0.171</td>\n",
       "      <td>0.659</td>\n",
       "      <td>0.170</td>\n",
       "    </tr>\n",
       "    <tr>\n",
       "      <th>2001-01-08</th>\n",
       "      <td>3820.0</td>\n",
       "      <td>3910.0</td>\n",
       "      <td>3780.0</td>\n",
       "      <td>3880.0</td>\n",
       "      <td>2996.824707</td>\n",
       "      <td>42295000.0</td>\n",
       "      <td>sangh parivar babri panel ant frontrunn key us...</td>\n",
       "      <td>-0.6808</td>\n",
       "      <td>0.100</td>\n",
       "      <td>0.816</td>\n",
       "      <td>0.084</td>\n",
       "    </tr>\n",
       "  </tbody>\n",
       "</table>\n",
       "</div>"
      ],
      "text/plain": [
       "              Open    High     Low   Close    Adj Close       Volume  \\\n",
       "2001-01-02  3160.0  3380.0  3140.0  3350.0  2587.465332   39455000.0   \n",
       "2001-01-03  3230.0  3420.0  3220.0  3370.0  2602.911865   37855000.0   \n",
       "2001-01-04  3790.0  3870.0  3660.0  3780.0  2919.587402  119910000.0   \n",
       "2001-01-05  3760.0  3920.0  3700.0  3900.0  3012.272705   78135000.0   \n",
       "2001-01-08  3820.0  3910.0  3780.0  3880.0  2996.824707   42295000.0   \n",
       "\n",
       "                                                headline_text  Compound  \\\n",
       "2001-01-02  statu quo disturb ayodhya say vajpaye fissur h...   -0.8555   \n",
       "2001-01-03  powerless north india grope dark think laxman ...   -0.5994   \n",
       "2001-01-04  string pull stephen hawk india vajpaye give bi...    0.9169   \n",
       "2001-01-05  light combat craft take india club class hawk ...   -0.3612   \n",
       "2001-01-08  sangh parivar babri panel ant frontrunn key us...   -0.6808   \n",
       "\n",
       "            Negative  Neutral  Positive  \n",
       "2001-01-02     0.125    0.773     0.102  \n",
       "2001-01-03     0.132    0.755     0.113  \n",
       "2001-01-04     0.099    0.791     0.110  \n",
       "2001-01-05     0.171    0.659     0.170  \n",
       "2001-01-08     0.100    0.816     0.084  "
      ]
     },
     "execution_count": 14,
     "metadata": {},
     "output_type": "execute_result"
    }
   ],
   "source": [
    "stock_market.head()"
   ]
  },
  {
   "cell_type": "code",
   "execution_count": 15,
   "id": "bf30c486",
   "metadata": {},
   "outputs": [
    {
     "data": {
      "text/plain": [
       "2001-01-02     3350.0\n",
       "2001-01-03     3370.0\n",
       "2001-01-04     3780.0\n",
       "2001-01-05     3900.0\n",
       "2001-01-08     3880.0\n",
       "               ...   \n",
       "2020-12-23    73900.0\n",
       "2020-12-24    77800.0\n",
       "2020-12-28    78700.0\n",
       "2020-12-29    78300.0\n",
       "2020-12-30    81000.0\n",
       "Name: Close, Length: 4990, dtype: float64"
      ]
     },
     "execution_count": 15,
     "metadata": {},
     "output_type": "execute_result"
    }
   ],
   "source": [
    "stock_market[\"Close\"]"
   ]
  },
  {
   "cell_type": "code",
   "execution_count": 16,
   "id": "521f7fae",
   "metadata": {},
   "outputs": [
    {
     "data": {
      "text/plain": [
       "(4990, 11)"
      ]
     },
     "execution_count": 16,
     "metadata": {},
     "output_type": "execute_result"
    }
   ],
   "source": [
    "stock_market.shape"
   ]
  },
  {
   "cell_type": "markdown",
   "id": "18bbdafc",
   "metadata": {},
   "source": [
    "# Finalizing Stock Data and Save as a csv file"
   ]
  },
  {
   "cell_type": "code",
   "execution_count": 17,
   "id": "6e916a8a",
   "metadata": {},
   "outputs": [],
   "source": [
    "stock_market.drop(columns=[\"headline_text\"],inplace=True)\n",
    "index = stock_market.index\n",
    "index.name = \"Date\""
   ]
  },
  {
   "cell_type": "code",
   "execution_count": 18,
   "id": "18c039d6",
   "metadata": {},
   "outputs": [],
   "source": [
    "stock_market.to_csv('stock_market.csv')"
   ]
  },
  {
   "cell_type": "markdown",
   "id": "f119d05e",
   "metadata": {},
   "source": [
    "# Reading Stock Data File"
   ]
  },
  {
   "cell_type": "code",
   "execution_count": 48,
   "id": "05a6b3e9",
   "metadata": {},
   "outputs": [],
   "source": [
    "df=pd.read_csv(\"stock_market.csv\")"
   ]
  },
  {
   "cell_type": "code",
   "execution_count": 49,
   "id": "40e52bc6",
   "metadata": {},
   "outputs": [
    {
     "data": {
      "text/html": [
       "<div>\n",
       "<style scoped>\n",
       "    .dataframe tbody tr th:only-of-type {\n",
       "        vertical-align: middle;\n",
       "    }\n",
       "\n",
       "    .dataframe tbody tr th {\n",
       "        vertical-align: top;\n",
       "    }\n",
       "\n",
       "    .dataframe thead th {\n",
       "        text-align: right;\n",
       "    }\n",
       "</style>\n",
       "<table border=\"1\" class=\"dataframe\">\n",
       "  <thead>\n",
       "    <tr style=\"text-align: right;\">\n",
       "      <th></th>\n",
       "      <th>Open</th>\n",
       "      <th>High</th>\n",
       "      <th>Low</th>\n",
       "      <th>Close</th>\n",
       "      <th>Adj Close</th>\n",
       "      <th>Volume</th>\n",
       "      <th>Compound</th>\n",
       "      <th>Negative</th>\n",
       "      <th>Neutral</th>\n",
       "      <th>Positive</th>\n",
       "    </tr>\n",
       "    <tr>\n",
       "      <th>Date</th>\n",
       "      <th></th>\n",
       "      <th></th>\n",
       "      <th></th>\n",
       "      <th></th>\n",
       "      <th></th>\n",
       "      <th></th>\n",
       "      <th></th>\n",
       "      <th></th>\n",
       "      <th></th>\n",
       "      <th></th>\n",
       "    </tr>\n",
       "  </thead>\n",
       "  <tbody>\n",
       "    <tr>\n",
       "      <th>2001-01-02</th>\n",
       "      <td>3160.0</td>\n",
       "      <td>3380.0</td>\n",
       "      <td>3140.0</td>\n",
       "      <td>3350.0</td>\n",
       "      <td>2587.465332</td>\n",
       "      <td>39455000.0</td>\n",
       "      <td>-0.8555</td>\n",
       "      <td>0.125</td>\n",
       "      <td>0.773</td>\n",
       "      <td>0.102</td>\n",
       "    </tr>\n",
       "    <tr>\n",
       "      <th>2001-01-03</th>\n",
       "      <td>3230.0</td>\n",
       "      <td>3420.0</td>\n",
       "      <td>3220.0</td>\n",
       "      <td>3370.0</td>\n",
       "      <td>2602.911865</td>\n",
       "      <td>37855000.0</td>\n",
       "      <td>-0.5994</td>\n",
       "      <td>0.132</td>\n",
       "      <td>0.755</td>\n",
       "      <td>0.113</td>\n",
       "    </tr>\n",
       "    <tr>\n",
       "      <th>2001-01-04</th>\n",
       "      <td>3790.0</td>\n",
       "      <td>3870.0</td>\n",
       "      <td>3660.0</td>\n",
       "      <td>3780.0</td>\n",
       "      <td>2919.587402</td>\n",
       "      <td>119910000.0</td>\n",
       "      <td>0.9169</td>\n",
       "      <td>0.099</td>\n",
       "      <td>0.791</td>\n",
       "      <td>0.110</td>\n",
       "    </tr>\n",
       "    <tr>\n",
       "      <th>2001-01-05</th>\n",
       "      <td>3760.0</td>\n",
       "      <td>3920.0</td>\n",
       "      <td>3700.0</td>\n",
       "      <td>3900.0</td>\n",
       "      <td>3012.272705</td>\n",
       "      <td>78135000.0</td>\n",
       "      <td>-0.3612</td>\n",
       "      <td>0.171</td>\n",
       "      <td>0.659</td>\n",
       "      <td>0.170</td>\n",
       "    </tr>\n",
       "    <tr>\n",
       "      <th>2001-01-08</th>\n",
       "      <td>3820.0</td>\n",
       "      <td>3910.0</td>\n",
       "      <td>3780.0</td>\n",
       "      <td>3880.0</td>\n",
       "      <td>2996.824707</td>\n",
       "      <td>42295000.0</td>\n",
       "      <td>-0.6808</td>\n",
       "      <td>0.100</td>\n",
       "      <td>0.816</td>\n",
       "      <td>0.084</td>\n",
       "    </tr>\n",
       "  </tbody>\n",
       "</table>\n",
       "</div>"
      ],
      "text/plain": [
       "              Open    High     Low   Close    Adj Close       Volume  \\\n",
       "Date                                                                   \n",
       "2001-01-02  3160.0  3380.0  3140.0  3350.0  2587.465332   39455000.0   \n",
       "2001-01-03  3230.0  3420.0  3220.0  3370.0  2602.911865   37855000.0   \n",
       "2001-01-04  3790.0  3870.0  3660.0  3780.0  2919.587402  119910000.0   \n",
       "2001-01-05  3760.0  3920.0  3700.0  3900.0  3012.272705   78135000.0   \n",
       "2001-01-08  3820.0  3910.0  3780.0  3880.0  2996.824707   42295000.0   \n",
       "\n",
       "            Compound  Negative  Neutral  Positive  \n",
       "Date                                               \n",
       "2001-01-02   -0.8555     0.125    0.773     0.102  \n",
       "2001-01-03   -0.5994     0.132    0.755     0.113  \n",
       "2001-01-04    0.9169     0.099    0.791     0.110  \n",
       "2001-01-05   -0.3612     0.171    0.659     0.170  \n",
       "2001-01-08   -0.6808     0.100    0.816     0.084  "
      ]
     },
     "execution_count": 49,
     "metadata": {},
     "output_type": "execute_result"
    }
   ],
   "source": [
    "df.set_index('Date', inplace=True)\n",
    "df.head()"
   ]
  },
  {
   "cell_type": "markdown",
   "id": "13ee1d35",
   "metadata": {},
   "source": [
    "# Exploratory Data Analysis of Stock data"
   ]
  },
  {
   "cell_type": "code",
   "execution_count": 5,
   "id": "8bf45960",
   "metadata": {},
   "outputs": [
    {
     "data": {
      "text/plain": [
       "(4990, 10)"
      ]
     },
     "execution_count": 5,
     "metadata": {},
     "output_type": "execute_result"
    }
   ],
   "source": [
    "df.shape"
   ]
  },
  {
   "cell_type": "code",
   "execution_count": 6,
   "id": "9f4e37e7",
   "metadata": {},
   "outputs": [
    {
     "data": {
      "text/plain": [
       "Open         0\n",
       "High         0\n",
       "Low          0\n",
       "Close        0\n",
       "Adj Close    0\n",
       "Volume       0\n",
       "Compound     0\n",
       "Negative     0\n",
       "Neutral      0\n",
       "Positive     0\n",
       "dtype: int64"
      ]
     },
     "execution_count": 6,
     "metadata": {},
     "output_type": "execute_result"
    }
   ],
   "source": [
    "df.isnull().sum()"
   ]
  },
  {
   "cell_type": "code",
   "execution_count": 5,
   "id": "1046177b",
   "metadata": {},
   "outputs": [
    {
     "data": {
      "text/html": [
       "<div>\n",
       "<style scoped>\n",
       "    .dataframe tbody tr th:only-of-type {\n",
       "        vertical-align: middle;\n",
       "    }\n",
       "\n",
       "    .dataframe tbody tr th {\n",
       "        vertical-align: top;\n",
       "    }\n",
       "\n",
       "    .dataframe thead th {\n",
       "        text-align: right;\n",
       "    }\n",
       "</style>\n",
       "<table border=\"1\" class=\"dataframe\">\n",
       "  <thead>\n",
       "    <tr style=\"text-align: right;\">\n",
       "      <th></th>\n",
       "      <th>Open</th>\n",
       "      <th>High</th>\n",
       "      <th>Low</th>\n",
       "      <th>Close</th>\n",
       "      <th>Adj Close</th>\n",
       "      <th>Volume</th>\n",
       "      <th>Compound</th>\n",
       "      <th>Negative</th>\n",
       "      <th>Neutral</th>\n",
       "      <th>Positive</th>\n",
       "    </tr>\n",
       "  </thead>\n",
       "  <tbody>\n",
       "    <tr>\n",
       "      <th>count</th>\n",
       "      <td>4990.000000</td>\n",
       "      <td>4990.000000</td>\n",
       "      <td>4990.000000</td>\n",
       "      <td>4990.000000</td>\n",
       "      <td>4990.000000</td>\n",
       "      <td>4.990000e+03</td>\n",
       "      <td>4990.000000</td>\n",
       "      <td>4990.000000</td>\n",
       "      <td>4990.000000</td>\n",
       "      <td>4990.000000</td>\n",
       "    </tr>\n",
       "    <tr>\n",
       "      <th>mean</th>\n",
       "      <td>22435.000946</td>\n",
       "      <td>22671.228868</td>\n",
       "      <td>22196.495765</td>\n",
       "      <td>22437.131233</td>\n",
       "      <td>19308.388593</td>\n",
       "      <td>2.050876e+07</td>\n",
       "      <td>-0.908771</td>\n",
       "      <td>0.144003</td>\n",
       "      <td>0.762105</td>\n",
       "      <td>0.093894</td>\n",
       "    </tr>\n",
       "    <tr>\n",
       "      <th>std</th>\n",
       "      <td>15420.478318</td>\n",
       "      <td>15571.187576</td>\n",
       "      <td>15271.316160</td>\n",
       "      <td>15423.381916</td>\n",
       "      <td>14697.188726</td>\n",
       "      <td>1.290761e+07</td>\n",
       "      <td>0.372691</td>\n",
       "      <td>0.022265</td>\n",
       "      <td>0.028651</td>\n",
       "      <td>0.023551</td>\n",
       "    </tr>\n",
       "    <tr>\n",
       "      <th>min</th>\n",
       "      <td>2760.000000</td>\n",
       "      <td>2810.000000</td>\n",
       "      <td>2680.000000</td>\n",
       "      <td>2810.000000</td>\n",
       "      <td>2170.380615</td>\n",
       "      <td>0.000000e+00</td>\n",
       "      <td>-1.000000</td>\n",
       "      <td>0.000000</td>\n",
       "      <td>0.244000</td>\n",
       "      <td>0.000000</td>\n",
       "    </tr>\n",
       "    <tr>\n",
       "      <th>25%</th>\n",
       "      <td>10745.000000</td>\n",
       "      <td>10920.000000</td>\n",
       "      <td>10600.000000</td>\n",
       "      <td>10760.000000</td>\n",
       "      <td>8403.466797</td>\n",
       "      <td>1.160262e+07</td>\n",
       "      <td>-0.999800</td>\n",
       "      <td>0.132000</td>\n",
       "      <td>0.749000</td>\n",
       "      <td>0.082000</td>\n",
       "    </tr>\n",
       "    <tr>\n",
       "      <th>50%</th>\n",
       "      <td>16410.000000</td>\n",
       "      <td>16560.000000</td>\n",
       "      <td>16240.000000</td>\n",
       "      <td>16400.000000</td>\n",
       "      <td>13302.697266</td>\n",
       "      <td>1.739900e+07</td>\n",
       "      <td>-0.999400</td>\n",
       "      <td>0.143000</td>\n",
       "      <td>0.765000</td>\n",
       "      <td>0.092000</td>\n",
       "    </tr>\n",
       "    <tr>\n",
       "      <th>75%</th>\n",
       "      <td>29200.000000</td>\n",
       "      <td>29460.000000</td>\n",
       "      <td>28815.000000</td>\n",
       "      <td>29115.000000</td>\n",
       "      <td>24309.433594</td>\n",
       "      <td>2.598202e+07</td>\n",
       "      <td>-0.997000</td>\n",
       "      <td>0.156000</td>\n",
       "      <td>0.778000</td>\n",
       "      <td>0.103000</td>\n",
       "    </tr>\n",
       "    <tr>\n",
       "      <th>max</th>\n",
       "      <td>79000.000000</td>\n",
       "      <td>81300.000000</td>\n",
       "      <td>78200.000000</td>\n",
       "      <td>81000.000000</td>\n",
       "      <td>80286.203125</td>\n",
       "      <td>1.313050e+08</td>\n",
       "      <td>0.999900</td>\n",
       "      <td>0.327000</td>\n",
       "      <td>1.000000</td>\n",
       "      <td>0.756000</td>\n",
       "    </tr>\n",
       "  </tbody>\n",
       "</table>\n",
       "</div>"
      ],
      "text/plain": [
       "               Open          High           Low         Close     Adj Close  \\\n",
       "count   4990.000000   4990.000000   4990.000000   4990.000000   4990.000000   \n",
       "mean   22435.000946  22671.228868  22196.495765  22437.131233  19308.388593   \n",
       "std    15420.478318  15571.187576  15271.316160  15423.381916  14697.188726   \n",
       "min     2760.000000   2810.000000   2680.000000   2810.000000   2170.380615   \n",
       "25%    10745.000000  10920.000000  10600.000000  10760.000000   8403.466797   \n",
       "50%    16410.000000  16560.000000  16240.000000  16400.000000  13302.697266   \n",
       "75%    29200.000000  29460.000000  28815.000000  29115.000000  24309.433594   \n",
       "max    79000.000000  81300.000000  78200.000000  81000.000000  80286.203125   \n",
       "\n",
       "             Volume     Compound     Negative      Neutral     Positive  \n",
       "count  4.990000e+03  4990.000000  4990.000000  4990.000000  4990.000000  \n",
       "mean   2.050876e+07    -0.908771     0.144003     0.762105     0.093894  \n",
       "std    1.290761e+07     0.372691     0.022265     0.028651     0.023551  \n",
       "min    0.000000e+00    -1.000000     0.000000     0.244000     0.000000  \n",
       "25%    1.160262e+07    -0.999800     0.132000     0.749000     0.082000  \n",
       "50%    1.739900e+07    -0.999400     0.143000     0.765000     0.092000  \n",
       "75%    2.598202e+07    -0.997000     0.156000     0.778000     0.103000  \n",
       "max    1.313050e+08     0.999900     0.327000     1.000000     0.756000  "
      ]
     },
     "execution_count": 5,
     "metadata": {},
     "output_type": "execute_result"
    }
   ],
   "source": [
    "df.describe()"
   ]
  },
  {
   "cell_type": "markdown",
   "id": "5ba764fa",
   "metadata": {},
   "source": [
    "# Visualizing Close Price"
   ]
  },
  {
   "cell_type": "code",
   "execution_count": 8,
   "id": "8154de1e",
   "metadata": {},
   "outputs": [
    {
     "data": {
      "text/plain": [
       "Text(0, 0.5, 'Close Price')"
      ]
     },
     "execution_count": 8,
     "metadata": {},
     "output_type": "execute_result"
    },
    {
     "data": {
      "image/png": "[encoded data removed]",
      "text/plain": [
       "<Figure size 1296x576 with 1 Axes>"
      ]
     },
     "metadata": {
      "needs_background": "light"
     },
     "output_type": "display_data"
    }
   ],
   "source": [
    "plt.figure(figsize=(18,8))\n",
    "df[\"Close\"].plot()\n",
    "plt.xlabel('Date')\n",
    "plt.ylabel('Close Price')"
   ]
  },
  {
   "cell_type": "code",
   "execution_count": 9,
   "id": "192ecc09",
   "metadata": {},
   "outputs": [
    {
     "data": {
      "text/html": [
       "<div>\n",
       "<style scoped>\n",
       "    .dataframe tbody tr th:only-of-type {\n",
       "        vertical-align: middle;\n",
       "    }\n",
       "\n",
       "    .dataframe tbody tr th {\n",
       "        vertical-align: top;\n",
       "    }\n",
       "\n",
       "    .dataframe thead th {\n",
       "        text-align: right;\n",
       "    }\n",
       "</style>\n",
       "<table border=\"1\" class=\"dataframe\">\n",
       "  <thead>\n",
       "    <tr style=\"text-align: right;\">\n",
       "      <th></th>\n",
       "      <th>Open</th>\n",
       "      <th>High</th>\n",
       "      <th>Low</th>\n",
       "      <th>Close</th>\n",
       "      <th>Adj Close</th>\n",
       "      <th>Volume</th>\n",
       "      <th>Compound</th>\n",
       "      <th>Negative</th>\n",
       "      <th>Neutral</th>\n",
       "      <th>Positive</th>\n",
       "    </tr>\n",
       "    <tr>\n",
       "      <th>Date</th>\n",
       "      <th></th>\n",
       "      <th></th>\n",
       "      <th></th>\n",
       "      <th></th>\n",
       "      <th></th>\n",
       "      <th></th>\n",
       "      <th></th>\n",
       "      <th></th>\n",
       "      <th></th>\n",
       "      <th></th>\n",
       "    </tr>\n",
       "  </thead>\n",
       "  <tbody>\n",
       "    <tr>\n",
       "      <th>2001-01-02</th>\n",
       "      <td>NaN</td>\n",
       "      <td>NaN</td>\n",
       "      <td>NaN</td>\n",
       "      <td>NaN</td>\n",
       "      <td>NaN</td>\n",
       "      <td>NaN</td>\n",
       "      <td>NaN</td>\n",
       "      <td>NaN</td>\n",
       "      <td>NaN</td>\n",
       "      <td>NaN</td>\n",
       "    </tr>\n",
       "    <tr>\n",
       "      <th>2001-01-03</th>\n",
       "      <td>NaN</td>\n",
       "      <td>NaN</td>\n",
       "      <td>NaN</td>\n",
       "      <td>NaN</td>\n",
       "      <td>NaN</td>\n",
       "      <td>NaN</td>\n",
       "      <td>NaN</td>\n",
       "      <td>NaN</td>\n",
       "      <td>NaN</td>\n",
       "      <td>NaN</td>\n",
       "    </tr>\n",
       "    <tr>\n",
       "      <th>2001-01-04</th>\n",
       "      <td>NaN</td>\n",
       "      <td>NaN</td>\n",
       "      <td>NaN</td>\n",
       "      <td>NaN</td>\n",
       "      <td>NaN</td>\n",
       "      <td>NaN</td>\n",
       "      <td>NaN</td>\n",
       "      <td>NaN</td>\n",
       "      <td>NaN</td>\n",
       "      <td>NaN</td>\n",
       "    </tr>\n",
       "    <tr>\n",
       "      <th>2001-01-05</th>\n",
       "      <td>NaN</td>\n",
       "      <td>NaN</td>\n",
       "      <td>NaN</td>\n",
       "      <td>NaN</td>\n",
       "      <td>NaN</td>\n",
       "      <td>NaN</td>\n",
       "      <td>NaN</td>\n",
       "      <td>NaN</td>\n",
       "      <td>NaN</td>\n",
       "      <td>NaN</td>\n",
       "    </tr>\n",
       "    <tr>\n",
       "      <th>2001-01-08</th>\n",
       "      <td>NaN</td>\n",
       "      <td>NaN</td>\n",
       "      <td>NaN</td>\n",
       "      <td>NaN</td>\n",
       "      <td>NaN</td>\n",
       "      <td>NaN</td>\n",
       "      <td>NaN</td>\n",
       "      <td>NaN</td>\n",
       "      <td>NaN</td>\n",
       "      <td>NaN</td>\n",
       "    </tr>\n",
       "    <tr>\n",
       "      <th>2001-01-09</th>\n",
       "      <td>NaN</td>\n",
       "      <td>NaN</td>\n",
       "      <td>NaN</td>\n",
       "      <td>NaN</td>\n",
       "      <td>NaN</td>\n",
       "      <td>NaN</td>\n",
       "      <td>NaN</td>\n",
       "      <td>NaN</td>\n",
       "      <td>NaN</td>\n",
       "      <td>NaN</td>\n",
       "    </tr>\n",
       "    <tr>\n",
       "      <th>2001-01-10</th>\n",
       "      <td>3624.285714</td>\n",
       "      <td>3738.571429</td>\n",
       "      <td>3558.571429</td>\n",
       "      <td>3690.000000</td>\n",
       "      <td>2850.073138</td>\n",
       "      <td>5.788071e+07</td>\n",
       "      <td>-0.367543</td>\n",
       "      <td>0.109714</td>\n",
       "      <td>0.801000</td>\n",
       "      <td>0.089429</td>\n",
       "    </tr>\n",
       "    <tr>\n",
       "      <th>2001-01-23</th>\n",
       "      <td>3822.857143</td>\n",
       "      <td>3905.714286</td>\n",
       "      <td>3760.000000</td>\n",
       "      <td>3861.428571</td>\n",
       "      <td>2982.480678</td>\n",
       "      <td>5.224429e+07</td>\n",
       "      <td>-0.107014</td>\n",
       "      <td>0.097429</td>\n",
       "      <td>0.810429</td>\n",
       "      <td>0.092286</td>\n",
       "    </tr>\n",
       "    <tr>\n",
       "      <th>2001-01-24</th>\n",
       "      <td>4011.428571</td>\n",
       "      <td>4067.142857</td>\n",
       "      <td>3950.000000</td>\n",
       "      <td>4030.000000</td>\n",
       "      <td>3112.681571</td>\n",
       "      <td>4.683643e+07</td>\n",
       "      <td>0.038829</td>\n",
       "      <td>0.090143</td>\n",
       "      <td>0.820286</td>\n",
       "      <td>0.089714</td>\n",
       "    </tr>\n",
       "    <tr>\n",
       "      <th>2001-01-25</th>\n",
       "      <td>4120.000000</td>\n",
       "      <td>4164.285714</td>\n",
       "      <td>4077.142857</td>\n",
       "      <td>4140.000000</td>\n",
       "      <td>3197.643101</td>\n",
       "      <td>2.970643e+07</td>\n",
       "      <td>-0.231529</td>\n",
       "      <td>0.097000</td>\n",
       "      <td>0.815571</td>\n",
       "      <td>0.087571</td>\n",
       "    </tr>\n",
       "    <tr>\n",
       "      <th>2001-01-26</th>\n",
       "      <td>4218.571429</td>\n",
       "      <td>4244.285714</td>\n",
       "      <td>4115.714286</td>\n",
       "      <td>4151.428571</td>\n",
       "      <td>3206.470250</td>\n",
       "      <td>3.154786e+07</td>\n",
       "      <td>-0.288200</td>\n",
       "      <td>0.089714</td>\n",
       "      <td>0.833429</td>\n",
       "      <td>0.077000</td>\n",
       "    </tr>\n",
       "    <tr>\n",
       "      <th>2001-01-29</th>\n",
       "      <td>4244.285714</td>\n",
       "      <td>4271.428571</td>\n",
       "      <td>4141.428571</td>\n",
       "      <td>4171.428571</td>\n",
       "      <td>3221.917934</td>\n",
       "      <td>3.225500e+07</td>\n",
       "      <td>-0.070914</td>\n",
       "      <td>0.092429</td>\n",
       "      <td>0.822000</td>\n",
       "      <td>0.085714</td>\n",
       "    </tr>\n",
       "    <tr>\n",
       "      <th>2001-01-30</th>\n",
       "      <td>4282.857143</td>\n",
       "      <td>4315.714286</td>\n",
       "      <td>4192.857143</td>\n",
       "      <td>4210.000000</td>\n",
       "      <td>3251.709752</td>\n",
       "      <td>3.126500e+07</td>\n",
       "      <td>0.139014</td>\n",
       "      <td>0.091286</td>\n",
       "      <td>0.809429</td>\n",
       "      <td>0.099286</td>\n",
       "    </tr>\n",
       "    <tr>\n",
       "      <th>2001-01-31</th>\n",
       "      <td>4327.142857</td>\n",
       "      <td>4400.000000</td>\n",
       "      <td>4248.571429</td>\n",
       "      <td>4308.571429</td>\n",
       "      <td>3327.844168</td>\n",
       "      <td>3.295214e+07</td>\n",
       "      <td>0.124343</td>\n",
       "      <td>0.109857</td>\n",
       "      <td>0.771857</td>\n",
       "      <td>0.118286</td>\n",
       "    </tr>\n",
       "    <tr>\n",
       "      <th>2001-02-01</th>\n",
       "      <td>4287.142857</td>\n",
       "      <td>4381.428571</td>\n",
       "      <td>4197.142857</td>\n",
       "      <td>4268.571429</td>\n",
       "      <td>3296.949044</td>\n",
       "      <td>3.862786e+07</td>\n",
       "      <td>0.113314</td>\n",
       "      <td>0.117143</td>\n",
       "      <td>0.763286</td>\n",
       "      <td>0.119429</td>\n",
       "    </tr>\n",
       "  </tbody>\n",
       "</table>\n",
       "</div>"
      ],
      "text/plain": [
       "                   Open         High          Low        Close    Adj Close  \\\n",
       "Date                                                                          \n",
       "2001-01-02          NaN          NaN          NaN          NaN          NaN   \n",
       "2001-01-03          NaN          NaN          NaN          NaN          NaN   \n",
       "2001-01-04          NaN          NaN          NaN          NaN          NaN   \n",
       "2001-01-05          NaN          NaN          NaN          NaN          NaN   \n",
       "2001-01-08          NaN          NaN          NaN          NaN          NaN   \n",
       "2001-01-09          NaN          NaN          NaN          NaN          NaN   \n",
       "2001-01-10  3624.285714  3738.571429  3558.571429  3690.000000  2850.073138   \n",
       "2001-01-23  3822.857143  3905.714286  3760.000000  3861.428571  2982.480678   \n",
       "2001-01-24  4011.428571  4067.142857  3950.000000  4030.000000  3112.681571   \n",
       "2001-01-25  4120.000000  4164.285714  4077.142857  4140.000000  3197.643101   \n",
       "2001-01-26  4218.571429  4244.285714  4115.714286  4151.428571  3206.470250   \n",
       "2001-01-29  4244.285714  4271.428571  4141.428571  4171.428571  3221.917934   \n",
       "2001-01-30  4282.857143  4315.714286  4192.857143  4210.000000  3251.709752   \n",
       "2001-01-31  4327.142857  4400.000000  4248.571429  4308.571429  3327.844168   \n",
       "2001-02-01  4287.142857  4381.428571  4197.142857  4268.571429  3296.949044   \n",
       "\n",
       "                  Volume  Compound  Negative   Neutral  Positive  \n",
       "Date                                                              \n",
       "2001-01-02           NaN       NaN       NaN       NaN       NaN  \n",
       "2001-01-03           NaN       NaN       NaN       NaN       NaN  \n",
       "2001-01-04           NaN       NaN       NaN       NaN       NaN  \n",
       "2001-01-05           NaN       NaN       NaN       NaN       NaN  \n",
       "2001-01-08           NaN       NaN       NaN       NaN       NaN  \n",
       "2001-01-09           NaN       NaN       NaN       NaN       NaN  \n",
       "2001-01-10  5.788071e+07 -0.367543  0.109714  0.801000  0.089429  \n",
       "2001-01-23  5.224429e+07 -0.107014  0.097429  0.810429  0.092286  \n",
       "2001-01-24  4.683643e+07  0.038829  0.090143  0.820286  0.089714  \n",
       "2001-01-25  2.970643e+07 -0.231529  0.097000  0.815571  0.087571  \n",
       "2001-01-26  3.154786e+07 -0.288200  0.089714  0.833429  0.077000  \n",
       "2001-01-29  3.225500e+07 -0.070914  0.092429  0.822000  0.085714  \n",
       "2001-01-30  3.126500e+07  0.139014  0.091286  0.809429  0.099286  \n",
       "2001-01-31  3.295214e+07  0.124343  0.109857  0.771857  0.118286  \n",
       "2001-02-01  3.862786e+07  0.113314  0.117143  0.763286  0.119429  "
      ]
     },
     "execution_count": 9,
     "metadata": {},
     "output_type": "execute_result"
    }
   ],
   "source": [
    "# calculating 7 day rolling mean\n",
    "df.rolling(7).mean().head(15)"
   ]
  },
  {
   "cell_type": "code",
   "execution_count": 10,
   "id": "d0227492",
   "metadata": {},
   "outputs": [
    {
     "data": {
      "text/plain": [
       "<AxesSubplot:xlabel='Date', ylabel='Price'>"
      ]
     },
     "execution_count": 10,
     "metadata": {},
     "output_type": "execute_result"
    },
    {
     "data": {
      "image/png": "[encoded data removed]",
      "text/plain": [
       "<Figure size 1152x720 with 1 Axes>"
      ]
     },
     "metadata": {
      "needs_background": "light"
     },
     "output_type": "display_data"
    }
   ],
   "source": [
    "# plotting the close price and a 30-day rolling mean of close price\n",
    "plt.figure(figsize=(16,10))\n",
    "df['Close'].plot()\n",
    "plt.ylabel(\"Price\")\n",
    "df.rolling(window=30).mean()['Close'].plot()"
   ]
  },
  {
   "cell_type": "markdown",
   "id": "57950198",
   "metadata": {},
   "source": [
    "# Testing For Stationarity"
   ]
  },
  {
   "cell_type": "code",
   "execution_count": 11,
   "id": "e733bd4d",
   "metadata": {},
   "outputs": [],
   "source": [
    "from statsmodels.tsa.stattools import adfuller"
   ]
  },
  {
   "cell_type": "code",
   "execution_count": 12,
   "id": "190f1acb",
   "metadata": {},
   "outputs": [],
   "source": [
    "def adfuller_test(Price):\n",
    "    result=adfuller(Price)\n",
    "    labels = ['ADF Test Statistic','p-value','#Lags Used','Number of Observations Used']\n",
    "    for value,label in zip(result,labels):\n",
    "        print(label+' : '+str(value) )\n",
    "    if result[1] <= 0.05:                # If p_value is less than 0.05 than data is Stationary otherwise data is Non-Stationary\n",
    "        print(\"Data is stationary\")\n",
    "    else:\n",
    "        print(\"Data is non-stationary \")"
   ]
  },
  {
   "cell_type": "code",
   "execution_count": 13,
   "id": "53f482b3",
   "metadata": {},
   "outputs": [
    {
     "name": "stdout",
     "output_type": "stream",
     "text": [
      "ADF Test Statistic : 1.8122636122701679\n",
      "p-value : 0.9983730323454776\n",
      "#Lags Used : 30\n",
      "Number of Observations Used : 4959\n",
      "Data is non-stationary \n"
     ]
    }
   ],
   "source": [
    "#### Testing Adfuller_test\n",
    "adfuller_test(df['Close'])"
   ]
  },
  {
   "cell_type": "markdown",
   "id": "2b5bdd52",
   "metadata": {},
   "source": [
    "# Converting Non-Stationary to Stationary data"
   ]
  },
  {
   "cell_type": "code",
   "execution_count": 14,
   "id": "6a78c615",
   "metadata": {},
   "outputs": [],
   "source": [
    "## For converting non stationary to stationary data\n",
    "df['Seasonal Close Price Difference']=df['Close']-df['Close'].shift(12)"
   ]
  },
  {
   "cell_type": "code",
   "execution_count": 15,
   "id": "94f48ed3",
   "metadata": {},
   "outputs": [
    {
     "data": {
      "text/html": [
       "<div>\n",
       "<style scoped>\n",
       "    .dataframe tbody tr th:only-of-type {\n",
       "        vertical-align: middle;\n",
       "    }\n",
       "\n",
       "    .dataframe tbody tr th {\n",
       "        vertical-align: top;\n",
       "    }\n",
       "\n",
       "    .dataframe thead th {\n",
       "        text-align: right;\n",
       "    }\n",
       "</style>\n",
       "<table border=\"1\" class=\"dataframe\">\n",
       "  <thead>\n",
       "    <tr style=\"text-align: right;\">\n",
       "      <th></th>\n",
       "      <th>Open</th>\n",
       "      <th>High</th>\n",
       "      <th>Low</th>\n",
       "      <th>Close</th>\n",
       "      <th>Adj Close</th>\n",
       "      <th>Volume</th>\n",
       "      <th>Compound</th>\n",
       "      <th>Negative</th>\n",
       "      <th>Neutral</th>\n",
       "      <th>Positive</th>\n",
       "      <th>Seasonal Close Price Difference</th>\n",
       "    </tr>\n",
       "    <tr>\n",
       "      <th>Date</th>\n",
       "      <th></th>\n",
       "      <th></th>\n",
       "      <th></th>\n",
       "      <th></th>\n",
       "      <th></th>\n",
       "      <th></th>\n",
       "      <th></th>\n",
       "      <th></th>\n",
       "      <th></th>\n",
       "      <th></th>\n",
       "      <th></th>\n",
       "    </tr>\n",
       "  </thead>\n",
       "  <tbody>\n",
       "    <tr>\n",
       "      <th>2001-01-02</th>\n",
       "      <td>3160.0</td>\n",
       "      <td>3380.0</td>\n",
       "      <td>3140.0</td>\n",
       "      <td>3350.0</td>\n",
       "      <td>2587.465332</td>\n",
       "      <td>39455000.0</td>\n",
       "      <td>-0.8555</td>\n",
       "      <td>0.125</td>\n",
       "      <td>0.773</td>\n",
       "      <td>0.102</td>\n",
       "      <td>NaN</td>\n",
       "    </tr>\n",
       "    <tr>\n",
       "      <th>2001-01-03</th>\n",
       "      <td>3230.0</td>\n",
       "      <td>3420.0</td>\n",
       "      <td>3220.0</td>\n",
       "      <td>3370.0</td>\n",
       "      <td>2602.911865</td>\n",
       "      <td>37855000.0</td>\n",
       "      <td>-0.5994</td>\n",
       "      <td>0.132</td>\n",
       "      <td>0.755</td>\n",
       "      <td>0.113</td>\n",
       "      <td>NaN</td>\n",
       "    </tr>\n",
       "    <tr>\n",
       "      <th>2001-01-04</th>\n",
       "      <td>3790.0</td>\n",
       "      <td>3870.0</td>\n",
       "      <td>3660.0</td>\n",
       "      <td>3780.0</td>\n",
       "      <td>2919.587402</td>\n",
       "      <td>119910000.0</td>\n",
       "      <td>0.9169</td>\n",
       "      <td>0.099</td>\n",
       "      <td>0.791</td>\n",
       "      <td>0.110</td>\n",
       "      <td>NaN</td>\n",
       "    </tr>\n",
       "    <tr>\n",
       "      <th>2001-01-05</th>\n",
       "      <td>3760.0</td>\n",
       "      <td>3920.0</td>\n",
       "      <td>3700.0</td>\n",
       "      <td>3900.0</td>\n",
       "      <td>3012.272705</td>\n",
       "      <td>78135000.0</td>\n",
       "      <td>-0.3612</td>\n",
       "      <td>0.171</td>\n",
       "      <td>0.659</td>\n",
       "      <td>0.170</td>\n",
       "      <td>NaN</td>\n",
       "    </tr>\n",
       "    <tr>\n",
       "      <th>2001-01-08</th>\n",
       "      <td>3820.0</td>\n",
       "      <td>3910.0</td>\n",
       "      <td>3780.0</td>\n",
       "      <td>3880.0</td>\n",
       "      <td>2996.824707</td>\n",
       "      <td>42295000.0</td>\n",
       "      <td>-0.6808</td>\n",
       "      <td>0.100</td>\n",
       "      <td>0.816</td>\n",
       "      <td>0.084</td>\n",
       "      <td>NaN</td>\n",
       "    </tr>\n",
       "    <tr>\n",
       "      <th>2001-01-09</th>\n",
       "      <td>3830.0</td>\n",
       "      <td>3860.0</td>\n",
       "      <td>3710.0</td>\n",
       "      <td>3840.0</td>\n",
       "      <td>2965.929932</td>\n",
       "      <td>46280000.0</td>\n",
       "      <td>-0.9928</td>\n",
       "      <td>0.141</td>\n",
       "      <td>0.813</td>\n",
       "      <td>0.047</td>\n",
       "      <td>NaN</td>\n",
       "    </tr>\n",
       "    <tr>\n",
       "      <th>2001-01-10</th>\n",
       "      <td>3780.0</td>\n",
       "      <td>3810.0</td>\n",
       "      <td>3700.0</td>\n",
       "      <td>3710.0</td>\n",
       "      <td>2865.520020</td>\n",
       "      <td>41235000.0</td>\n",
       "      <td>0.0000</td>\n",
       "      <td>0.000</td>\n",
       "      <td>1.000</td>\n",
       "      <td>0.000</td>\n",
       "      <td>NaN</td>\n",
       "    </tr>\n",
       "    <tr>\n",
       "      <th>2001-01-23</th>\n",
       "      <td>4550.0</td>\n",
       "      <td>4550.0</td>\n",
       "      <td>4550.0</td>\n",
       "      <td>4550.0</td>\n",
       "      <td>3514.318115</td>\n",
       "      <td>0.0</td>\n",
       "      <td>0.9682</td>\n",
       "      <td>0.039</td>\n",
       "      <td>0.839</td>\n",
       "      <td>0.122</td>\n",
       "      <td>NaN</td>\n",
       "    </tr>\n",
       "    <tr>\n",
       "      <th>2001-01-24</th>\n",
       "      <td>4550.0</td>\n",
       "      <td>4550.0</td>\n",
       "      <td>4550.0</td>\n",
       "      <td>4550.0</td>\n",
       "      <td>3514.318115</td>\n",
       "      <td>0.0</td>\n",
       "      <td>0.4215</td>\n",
       "      <td>0.081</td>\n",
       "      <td>0.824</td>\n",
       "      <td>0.095</td>\n",
       "      <td>NaN</td>\n",
       "    </tr>\n",
       "    <tr>\n",
       "      <th>2001-01-25</th>\n",
       "      <td>4550.0</td>\n",
       "      <td>4550.0</td>\n",
       "      <td>4550.0</td>\n",
       "      <td>4550.0</td>\n",
       "      <td>3514.318115</td>\n",
       "      <td>0.0</td>\n",
       "      <td>-0.9756</td>\n",
       "      <td>0.147</td>\n",
       "      <td>0.758</td>\n",
       "      <td>0.095</td>\n",
       "      <td>NaN</td>\n",
       "    </tr>\n",
       "    <tr>\n",
       "      <th>2001-01-26</th>\n",
       "      <td>4450.0</td>\n",
       "      <td>4480.0</td>\n",
       "      <td>3970.0</td>\n",
       "      <td>3980.0</td>\n",
       "      <td>3074.062744</td>\n",
       "      <td>91025000.0</td>\n",
       "      <td>-0.7579</td>\n",
       "      <td>0.120</td>\n",
       "      <td>0.784</td>\n",
       "      <td>0.096</td>\n",
       "      <td>NaN</td>\n",
       "    </tr>\n",
       "    <tr>\n",
       "      <th>2001-01-29</th>\n",
       "      <td>4000.0</td>\n",
       "      <td>4100.0</td>\n",
       "      <td>3960.0</td>\n",
       "      <td>4020.0</td>\n",
       "      <td>3104.958496</td>\n",
       "      <td>47245000.0</td>\n",
       "      <td>0.8402</td>\n",
       "      <td>0.119</td>\n",
       "      <td>0.736</td>\n",
       "      <td>0.145</td>\n",
       "      <td>NaN</td>\n",
       "    </tr>\n",
       "    <tr>\n",
       "      <th>2001-01-30</th>\n",
       "      <td>4100.0</td>\n",
       "      <td>4170.0</td>\n",
       "      <td>4070.0</td>\n",
       "      <td>4110.0</td>\n",
       "      <td>3174.472656</td>\n",
       "      <td>39350000.0</td>\n",
       "      <td>0.4767</td>\n",
       "      <td>0.133</td>\n",
       "      <td>0.725</td>\n",
       "      <td>0.142</td>\n",
       "      <td>760.0</td>\n",
       "    </tr>\n",
       "    <tr>\n",
       "      <th>2001-01-31</th>\n",
       "      <td>4090.0</td>\n",
       "      <td>4400.0</td>\n",
       "      <td>4090.0</td>\n",
       "      <td>4400.0</td>\n",
       "      <td>3398.460938</td>\n",
       "      <td>53045000.0</td>\n",
       "      <td>-0.1027</td>\n",
       "      <td>0.130</td>\n",
       "      <td>0.737</td>\n",
       "      <td>0.133</td>\n",
       "      <td>1030.0</td>\n",
       "    </tr>\n",
       "    <tr>\n",
       "      <th>2001-02-01</th>\n",
       "      <td>4270.0</td>\n",
       "      <td>4420.0</td>\n",
       "      <td>4190.0</td>\n",
       "      <td>4270.0</td>\n",
       "      <td>3298.052246</td>\n",
       "      <td>39730000.0</td>\n",
       "      <td>0.8910</td>\n",
       "      <td>0.090</td>\n",
       "      <td>0.779</td>\n",
       "      <td>0.130</td>\n",
       "      <td>490.0</td>\n",
       "    </tr>\n",
       "  </tbody>\n",
       "</table>\n",
       "</div>"
      ],
      "text/plain": [
       "              Open    High     Low   Close    Adj Close       Volume  \\\n",
       "Date                                                                   \n",
       "2001-01-02  3160.0  3380.0  3140.0  3350.0  2587.465332   39455000.0   \n",
       "2001-01-03  3230.0  3420.0  3220.0  3370.0  2602.911865   37855000.0   \n",
       "2001-01-04  3790.0  3870.0  3660.0  3780.0  2919.587402  119910000.0   \n",
       "2001-01-05  3760.0  3920.0  3700.0  3900.0  3012.272705   78135000.0   \n",
       "2001-01-08  3820.0  3910.0  3780.0  3880.0  2996.824707   42295000.0   \n",
       "2001-01-09  3830.0  3860.0  3710.0  3840.0  2965.929932   46280000.0   \n",
       "2001-01-10  3780.0  3810.0  3700.0  3710.0  2865.520020   41235000.0   \n",
       "2001-01-23  4550.0  4550.0  4550.0  4550.0  3514.318115          0.0   \n",
       "2001-01-24  4550.0  4550.0  4550.0  4550.0  3514.318115          0.0   \n",
       "2001-01-25  4550.0  4550.0  4550.0  4550.0  3514.318115          0.0   \n",
       "2001-01-26  4450.0  4480.0  3970.0  3980.0  3074.062744   91025000.0   \n",
       "2001-01-29  4000.0  4100.0  3960.0  4020.0  3104.958496   47245000.0   \n",
       "2001-01-30  4100.0  4170.0  4070.0  4110.0  3174.472656   39350000.0   \n",
       "2001-01-31  4090.0  4400.0  4090.0  4400.0  3398.460938   53045000.0   \n",
       "2001-02-01  4270.0  4420.0  4190.0  4270.0  3298.052246   39730000.0   \n",
       "\n",
       "            Compound  Negative  Neutral  Positive  \\\n",
       "Date                                                \n",
       "2001-01-02   -0.8555     0.125    0.773     0.102   \n",
       "2001-01-03   -0.5994     0.132    0.755     0.113   \n",
       "2001-01-04    0.9169     0.099    0.791     0.110   \n",
       "2001-01-05   -0.3612     0.171    0.659     0.170   \n",
       "2001-01-08   -0.6808     0.100    0.816     0.084   \n",
       "2001-01-09   -0.9928     0.141    0.813     0.047   \n",
       "2001-01-10    0.0000     0.000    1.000     0.000   \n",
       "2001-01-23    0.9682     0.039    0.839     0.122   \n",
       "2001-01-24    0.4215     0.081    0.824     0.095   \n",
       "2001-01-25   -0.9756     0.147    0.758     0.095   \n",
       "2001-01-26   -0.7579     0.120    0.784     0.096   \n",
       "2001-01-29    0.8402     0.119    0.736     0.145   \n",
       "2001-01-30    0.4767     0.133    0.725     0.142   \n",
       "2001-01-31   -0.1027     0.130    0.737     0.133   \n",
       "2001-02-01    0.8910     0.090    0.779     0.130   \n",
       "\n",
       "            Seasonal Close Price Difference  \n",
       "Date                                         \n",
       "2001-01-02                              NaN  \n",
       "2001-01-03                              NaN  \n",
       "2001-01-04                              NaN  \n",
       "2001-01-05                              NaN  \n",
       "2001-01-08                              NaN  \n",
       "2001-01-09                              NaN  \n",
       "2001-01-10                              NaN  \n",
       "2001-01-23                              NaN  \n",
       "2001-01-24                              NaN  \n",
       "2001-01-25                              NaN  \n",
       "2001-01-26                              NaN  \n",
       "2001-01-29                              NaN  \n",
       "2001-01-30                            760.0  \n",
       "2001-01-31                           1030.0  \n",
       "2001-02-01                            490.0  "
      ]
     },
     "execution_count": 15,
     "metadata": {},
     "output_type": "execute_result"
    }
   ],
   "source": [
    "df.head(15)"
   ]
  },
  {
   "cell_type": "code",
   "execution_count": 52,
   "id": "a81d0285",
   "metadata": {},
   "outputs": [],
   "source": [
    "df.rename(columns={\"Close\":\"Close Price\"}, inplace=True)"
   ]
  },
  {
   "cell_type": "code",
   "execution_count": 17,
   "id": "f230aa10",
   "metadata": {},
   "outputs": [
    {
     "name": "stdout",
     "output_type": "stream",
     "text": [
      "ADF Test Statistic : -10.173251467469766\n",
      "p-value : 6.999404608452032e-18\n",
      "#Lags Used : 30\n",
      "Number of Observations Used : 4947\n",
      "Data is stationary\n"
     ]
    }
   ],
   "source": [
    "### Again testing for  Stationarity\n",
    "adfuller_test(df['Seasonal Close Price Difference'].dropna())"
   ]
  },
  {
   "cell_type": "code",
   "execution_count": 18,
   "id": "04a9f7cb",
   "metadata": {},
   "outputs": [
    {
     "data": {
      "text/plain": [
       "Text(0, 0.5, 'Seasonal Close Price Difference')"
      ]
     },
     "execution_count": 18,
     "metadata": {},
     "output_type": "execute_result"
    },
    {
     "data": {
      "image/png": "[encoded data removed]",
      "text/plain": [
       "<Figure size 1296x576 with 1 Axes>"
      ]
     },
     "metadata": {
      "needs_background": "light"
     },
     "output_type": "display_data"
    }
   ],
   "source": [
    "#### Visualize the Data ####\n",
    "plt.figure(figsize=(18,8))\n",
    "df[\"Seasonal Close Price Difference\"].plot()\n",
    "plt.xlabel('Date')\n",
    "plt.ylabel('Seasonal Close Price Difference')"
   ]
  },
  {
   "cell_type": "markdown",
   "id": "30ccca4f",
   "metadata": {},
   "source": [
    "# Auto Regressive Model"
   ]
  },
  {
   "cell_type": "code",
   "execution_count": 19,
   "id": "46d79df2",
   "metadata": {},
   "outputs": [],
   "source": [
    "### acf = Autocorellation Function\n",
    "### pacf = Partial Autocorellation Function\n",
    "from statsmodels.graphics.tsaplots import plot_acf,plot_pacf"
   ]
  },
  {
   "cell_type": "code",
   "execution_count": 20,
   "id": "28b16c49",
   "metadata": {},
   "outputs": [
    {
     "data": {
      "image/png": "[encoded data removed]",
      "text/plain": [
       "<Figure size 864x576 with 2 Axes>"
      ]
     },
     "metadata": {
      "needs_background": "light"
     },
     "output_type": "display_data"
    }
   ],
   "source": [
    "## Plotting Autocorellation and Partial Autocorellation Graph\n",
    "## Collecting p,q,d values from observing these graph\n",
    "fig = plt.figure(figsize=(12,8))\n",
    "ax1 = fig.add_subplot(211)\n",
    "fig = plot_acf(df['Seasonal Close Price Difference'].dropna(),lags=40,ax=ax1)\n",
    "ax2 = fig.add_subplot(212)\n",
    "fig = plot_pacf(df['Seasonal Close Price Difference'].dropna(),lags=40,ax=ax2)"
   ]
  },
  {
   "cell_type": "markdown",
   "id": "bf1240fb",
   "metadata": {},
   "source": [
    "# Predicting Using SARIMAX"
   ]
  },
  {
   "cell_type": "code",
   "execution_count": 50,
   "id": "c7085b5c",
   "metadata": {},
   "outputs": [],
   "source": [
    "import statsmodels.api as sm"
   ]
  },
  {
   "cell_type": "code",
   "execution_count": 53,
   "id": "6df42a8b",
   "metadata": {
    "scrolled": true
   },
   "outputs": [],
   "source": [
    "model=sm.tsa.statespace.SARIMAX(df['Close Price'],order=(1, 1, 1),seasonal_order=(1,1,1,12))  # order=(p,d,q)\n",
    "results=model.fit()"
   ]
  },
  {
   "cell_type": "code",
   "execution_count": 12,
   "id": "df4f9c73",
   "metadata": {},
   "outputs": [
    {
     "data": {
      "text/html": [
       "<table class=\"simpletable\">\n",
       "<caption>SARIMAX Results</caption>\n",
       "<tr>\n",
       "  <th>Dep. Variable:</th>             <td>Close Price</td>          <th>  No. Observations:  </th>    <td>4990</td>   \n",
       "</tr>\n",
       "<tr>\n",
       "  <th>Model:</th>           <td>SARIMAX(1, 1, 1)x(1, 1, 1, 12)</td> <th>  Log Likelihood     </th> <td>-42341.386</td>\n",
       "</tr>\n",
       "<tr>\n",
       "  <th>Date:</th>                   <td>Tue, 10 Aug 2021</td>        <th>  AIC                </th>  <td>84692.773</td>\n",
       "</tr>\n",
       "<tr>\n",
       "  <th>Time:</th>                       <td>19:42:10</td>            <th>  BIC                </th>  <td>84725.335</td>\n",
       "</tr>\n",
       "<tr>\n",
       "  <th>Sample:</th>                         <td>0</td>               <th>  HQIC               </th>  <td>84704.188</td>\n",
       "</tr>\n",
       "<tr>\n",
       "  <th></th>                             <td> - 4990</td>            <th>                     </th>      <td> </td>    \n",
       "</tr>\n",
       "<tr>\n",
       "  <th>Covariance Type:</th>               <td>opg</td>              <th>                     </th>      <td> </td>    \n",
       "</tr>\n",
       "</table>\n",
       "<table class=\"simpletable\">\n",
       "<tr>\n",
       "      <td></td>        <th>coef</th>     <th>std err</th>      <th>z</th>      <th>P>|z|</th>  <th>[0.025</th>    <th>0.975]</th>  \n",
       "</tr>\n",
       "<tr>\n",
       "  <th>ar.L1</th>    <td>   -0.0017</td> <td>    0.005</td> <td>   -0.350</td> <td> 0.727</td> <td>   -0.011</td> <td>    0.008</td>\n",
       "</tr>\n",
       "<tr>\n",
       "  <th>ma.L1</th>    <td>   -0.6431</td> <td>    0.005</td> <td> -126.217</td> <td> 0.000</td> <td>   -0.653</td> <td>   -0.633</td>\n",
       "</tr>\n",
       "<tr>\n",
       "  <th>ar.S.L12</th> <td>   -0.0121</td> <td>    0.018</td> <td>   -0.685</td> <td> 0.493</td> <td>   -0.047</td> <td>    0.023</td>\n",
       "</tr>\n",
       "<tr>\n",
       "  <th>ma.S.L12</th> <td>   -1.0000</td> <td>    0.002</td> <td> -575.601</td> <td> 0.000</td> <td>   -1.003</td> <td>   -0.997</td>\n",
       "</tr>\n",
       "<tr>\n",
       "  <th>sigma2</th>   <td> 1.416e+06</td> <td> 1.23e-09</td> <td> 1.15e+15</td> <td> 0.000</td> <td> 1.42e+06</td> <td> 1.42e+06</td>\n",
       "</tr>\n",
       "</table>\n",
       "<table class=\"simpletable\">\n",
       "<tr>\n",
       "  <th>Ljung-Box (L1) (Q):</th>     <td>0.00</td>  <th>  Jarque-Bera (JB):  </th> <td>26742909.16</td>\n",
       "</tr>\n",
       "<tr>\n",
       "  <th>Prob(Q):</th>                <td>0.98</td>  <th>  Prob(JB):          </th>    <td>0.00</td>    \n",
       "</tr>\n",
       "<tr>\n",
       "  <th>Heteroskedasticity (H):</th> <td>18.59</td> <th>  Skew:              </th>   <td>-12.63</td>   \n",
       "</tr>\n",
       "<tr>\n",
       "  <th>Prob(H) (two-sided):</th>    <td>0.00</td>  <th>  Kurtosis:          </th>   <td>361.22</td>   \n",
       "</tr>\n",
       "</table><br/><br/>Warnings:<br/>[1] Covariance matrix calculated using the outer product of gradients (complex-step).<br/>[2] Covariance matrix is singular or near-singular, with condition number 8.64e+30. Standard errors may be unstable."
      ],
      "text/plain": [
       "<class 'statsmodels.iolib.summary.Summary'>\n",
       "\"\"\"\n",
       "                                     SARIMAX Results                                      \n",
       "==========================================================================================\n",
       "Dep. Variable:                        Close Price   No. Observations:                 4990\n",
       "Model:             SARIMAX(1, 1, 1)x(1, 1, 1, 12)   Log Likelihood              -42341.386\n",
       "Date:                            Tue, 10 Aug 2021   AIC                          84692.773\n",
       "Time:                                    19:42:10   BIC                          84725.335\n",
       "Sample:                                         0   HQIC                         84704.188\n",
       "                                           - 4990                                         \n",
       "Covariance Type:                              opg                                         \n",
       "==============================================================================\n",
       "                 coef    std err          z      P>|z|      [0.025      0.975]\n",
       "------------------------------------------------------------------------------\n",
       "ar.L1         -0.0017      0.005     -0.350      0.727      -0.011       0.008\n",
       "ma.L1         -0.6431      0.005   -126.217      0.000      -0.653      -0.633\n",
       "ar.S.L12      -0.0121      0.018     -0.685      0.493      -0.047       0.023\n",
       "ma.S.L12      -1.0000      0.002   -575.601      0.000      -1.003      -0.997\n",
       "sigma2      1.416e+06   1.23e-09   1.15e+15      0.000    1.42e+06    1.42e+06\n",
       "===================================================================================\n",
       "Ljung-Box (L1) (Q):                   0.00   Jarque-Bera (JB):          26742909.16\n",
       "Prob(Q):                              0.98   Prob(JB):                         0.00\n",
       "Heteroskedasticity (H):              18.59   Skew:                           -12.63\n",
       "Prob(H) (two-sided):                  0.00   Kurtosis:                       361.22\n",
       "===================================================================================\n",
       "\n",
       "Warnings:\n",
       "[1] Covariance matrix calculated using the outer product of gradients (complex-step).\n",
       "[2] Covariance matrix is singular or near-singular, with condition number 8.64e+30. Standard errors may be unstable.\n",
       "\"\"\""
      ]
     },
     "execution_count": 12,
     "metadata": {},
     "output_type": "execute_result"
    }
   ],
   "source": [
    "results.summary()"
   ]
  },
  {
   "cell_type": "code",
   "execution_count": 13,
   "id": "59c55c93",
   "metadata": {},
   "outputs": [
    {
     "data": {
      "image/png": "[encoded data removed]",
      "text/plain": [
       "<Figure size 432x288 with 4 Axes>"
      ]
     },
     "execution_count": 13,
     "metadata": {},
     "output_type": "execute_result"
    },
    {
     "data": {
      "image/png": "[encoded data removed]",
      "text/plain": [
       "<Figure size 432x288 with 4 Axes>"
      ]
     },
     "metadata": {
      "needs_background": "light"
     },
     "output_type": "display_data"
    }
   ],
   "source": [
    "results.plot_diagnostics()"
   ]
  },
  {
   "cell_type": "code",
   "execution_count": 43,
   "id": "ddde3304",
   "metadata": {},
   "outputs": [],
   "source": [
    "## Predicting the forecasted value\n",
    "df['Forecasted Close Price']=results.predict(start=1,end=4989,dynamic=False)"
   ]
  },
  {
   "cell_type": "code",
   "execution_count": 45,
   "id": "4076a6b1",
   "metadata": {},
   "outputs": [
    {
     "data": {
      "text/html": [
       "<div>\n",
       "<style scoped>\n",
       "    .dataframe tbody tr th:only-of-type {\n",
       "        vertical-align: middle;\n",
       "    }\n",
       "\n",
       "    .dataframe tbody tr th {\n",
       "        vertical-align: top;\n",
       "    }\n",
       "\n",
       "    .dataframe thead th {\n",
       "        text-align: right;\n",
       "    }\n",
       "</style>\n",
       "<table border=\"1\" class=\"dataframe\">\n",
       "  <thead>\n",
       "    <tr style=\"text-align: right;\">\n",
       "      <th></th>\n",
       "      <th>Close Price</th>\n",
       "      <th>Prediction</th>\n",
       "    </tr>\n",
       "    <tr>\n",
       "      <th>Date</th>\n",
       "      <th></th>\n",
       "      <th></th>\n",
       "    </tr>\n",
       "  </thead>\n",
       "  <tbody>\n",
       "    <tr>\n",
       "      <th>2001-01-03</th>\n",
       "      <td>3370.0</td>\n",
       "      <td>2326.711377</td>\n",
       "    </tr>\n",
       "    <tr>\n",
       "      <th>2001-01-04</th>\n",
       "      <td>3780.0</td>\n",
       "      <td>2942.282441</td>\n",
       "    </tr>\n",
       "    <tr>\n",
       "      <th>2001-01-05</th>\n",
       "      <td>3900.0</td>\n",
       "      <td>3420.217228</td>\n",
       "    </tr>\n",
       "    <tr>\n",
       "      <th>2001-01-08</th>\n",
       "      <td>3880.0</td>\n",
       "      <td>3692.476159</td>\n",
       "    </tr>\n",
       "    <tr>\n",
       "      <th>2001-01-09</th>\n",
       "      <td>3840.0</td>\n",
       "      <td>3798.881490</td>\n",
       "    </tr>\n",
       "  </tbody>\n",
       "</table>\n",
       "</div>"
      ],
      "text/plain": [
       "            Close Price   Prediction\n",
       "Date                                \n",
       "2001-01-03       3370.0  2326.711377\n",
       "2001-01-04       3780.0  2942.282441\n",
       "2001-01-05       3900.0  3420.217228\n",
       "2001-01-08       3880.0  3692.476159\n",
       "2001-01-09       3840.0  3798.881490"
      ]
     },
     "execution_count": 45,
     "metadata": {},
     "output_type": "execute_result"
    }
   ],
   "source": [
    "#### Comparison b/w Actual Close Price and Predicted price\n",
    "predict=pd.DataFrame({\"Close Price\": df['Close Price'],\"Prediction\":df['Forecasted Close Price']})\n",
    "predict.dropna(axis=0, inplace=True)\n",
    "predict.head()"
   ]
  },
  {
   "cell_type": "markdown",
   "id": "79fb4d40",
   "metadata": {},
   "source": [
    "# Accuracy Percentage"
   ]
  },
  {
   "cell_type": "code",
   "execution_count": 110,
   "id": "30c79129",
   "metadata": {},
   "outputs": [
    {
     "name": "stdout",
     "output_type": "stream",
     "text": [
      "99.9 %\n"
     ]
    }
   ],
   "source": [
    "accuracy = (predict[\"Prediction\"].sum() / predict[\"Close Price\"].sum()) * 100\n",
    "print(accuracy.round(1),\"%\")"
   ]
  },
  {
   "cell_type": "markdown",
   "id": "fd11d373",
   "metadata": {},
   "source": [
    "# Comparison Graph Between Close price and Forecasted Close Price"
   ]
  },
  {
   "cell_type": "code",
   "execution_count": 46,
   "id": "8bc5cf98",
   "metadata": {},
   "outputs": [
    {
     "data": {
      "text/plain": [
       "Text(0.5, 1.0, 'Comparison Graph')"
      ]
     },
     "execution_count": 46,
     "metadata": {},
     "output_type": "execute_result"
    },
    {
     "data": {
      "image/png": "[encoded data removed]",
      "text/plain": [
       "<Figure size 1080x576 with 1 Axes>"
      ]
     },
     "metadata": {
      "needs_background": "light"
     },
     "output_type": "display_data"
    }
   ],
   "source": [
    "df[['Close Price','Forecasted Close Price']].plot(figsize=(15,8))\n",
    "ax=plt.axes()\n",
    "ax.set_facecolor(\"black\")\n",
    "plt.xlabel('Date', fontweight=\"bold\")\n",
    "plt.ylabel('Price',fontweight=\"bold\")\n",
    "plt.title('Comparison Graph',fontweight=\"bold\")\n"
   ]
  },
  {
   "cell_type": "markdown",
   "id": "904da65f",
   "metadata": {},
   "source": [
    "# Predicting Close Price By using train_test_split method"
   ]
  },
  {
   "cell_type": "code",
   "execution_count": 54,
   "id": "0322f1d9",
   "metadata": {},
   "outputs": [
    {
     "data": {
      "text/plain": [
       "(1497, 1)"
      ]
     },
     "execution_count": 54,
     "metadata": {},
     "output_type": "execute_result"
    }
   ],
   "source": [
    "from pmdarima.model_selection import train_test_split\n"
   ]
  },
  {
   "cell_type": "markdown",
   "id": "c6a0ffff",
   "metadata": {},
   "source": [
    "# Split Data in test and train"
   ]
  },
  {
   "cell_type": "code",
   "execution_count": null,
   "id": "8fc99aa4",
   "metadata": {},
   "outputs": [],
   "source": [
    "train, test = train_test_split(df[[\"Close Price\"]], test_size =0.3)\n",
    "test.shape"
   ]
  },
  {
   "cell_type": "markdown",
   "id": "90129e35",
   "metadata": {},
   "source": [
    "#  Predicting using SARIMAX"
   ]
  },
  {
   "cell_type": "code",
   "execution_count": 55,
   "id": "12c600ca",
   "metadata": {},
   "outputs": [],
   "source": [
    "prediction = pd.DataFrame(results.predict(n_periods = 1497), test.index)\n",
    "prediction.columns = [\"predicted_sales\"]\n",
    "test[\"predicted_sales\"] = prediction"
   ]
  },
  {
   "cell_type": "code",
   "execution_count": 56,
   "id": "b3773823",
   "metadata": {},
   "outputs": [
    {
     "data": {
      "text/html": [
       "<div>\n",
       "<style scoped>\n",
       "    .dataframe tbody tr th:only-of-type {\n",
       "        vertical-align: middle;\n",
       "    }\n",
       "\n",
       "    .dataframe tbody tr th {\n",
       "        vertical-align: top;\n",
       "    }\n",
       "\n",
       "    .dataframe thead th {\n",
       "        text-align: right;\n",
       "    }\n",
       "</style>\n",
       "<table border=\"1\" class=\"dataframe\">\n",
       "  <thead>\n",
       "    <tr style=\"text-align: right;\">\n",
       "      <th></th>\n",
       "      <th>Close Price</th>\n",
       "      <th>predicted_sales</th>\n",
       "    </tr>\n",
       "    <tr>\n",
       "      <th>Date</th>\n",
       "      <th></th>\n",
       "      <th></th>\n",
       "    </tr>\n",
       "  </thead>\n",
       "  <tbody>\n",
       "    <tr>\n",
       "      <th>2014-11-27</th>\n",
       "      <td>25280.0</td>\n",
       "      <td>24109.924789</td>\n",
       "    </tr>\n",
       "    <tr>\n",
       "      <th>2014-11-28</th>\n",
       "      <td>25740.0</td>\n",
       "      <td>24532.780271</td>\n",
       "    </tr>\n",
       "    <tr>\n",
       "      <th>2014-12-01</th>\n",
       "      <td>25900.0</td>\n",
       "      <td>24979.813602</td>\n",
       "    </tr>\n",
       "    <tr>\n",
       "      <th>2014-12-02</th>\n",
       "      <td>25900.0</td>\n",
       "      <td>25288.892300</td>\n",
       "    </tr>\n",
       "    <tr>\n",
       "      <th>2014-12-03</th>\n",
       "      <td>25960.0</td>\n",
       "      <td>25525.598537</td>\n",
       "    </tr>\n",
       "    <tr>\n",
       "      <th>...</th>\n",
       "      <td>...</td>\n",
       "      <td>...</td>\n",
       "    </tr>\n",
       "    <tr>\n",
       "      <th>2020-12-23</th>\n",
       "      <td>73900.0</td>\n",
       "      <td>72900.693081</td>\n",
       "    </tr>\n",
       "    <tr>\n",
       "      <th>2020-12-24</th>\n",
       "      <td>77800.0</td>\n",
       "      <td>73233.378827</td>\n",
       "    </tr>\n",
       "    <tr>\n",
       "      <th>2020-12-28</th>\n",
       "      <td>78700.0</td>\n",
       "      <td>74906.924081</td>\n",
       "    </tr>\n",
       "    <tr>\n",
       "      <th>2020-12-29</th>\n",
       "      <td>78300.0</td>\n",
       "      <td>76281.958473</td>\n",
       "    </tr>\n",
       "    <tr>\n",
       "      <th>2020-12-30</th>\n",
       "      <td>81000.0</td>\n",
       "      <td>77005.432744</td>\n",
       "    </tr>\n",
       "  </tbody>\n",
       "</table>\n",
       "<p>1497 rows × 2 columns</p>\n",
       "</div>"
      ],
      "text/plain": [
       "            Close Price  predicted_sales\n",
       "Date                                    \n",
       "2014-11-27      25280.0     24109.924789\n",
       "2014-11-28      25740.0     24532.780271\n",
       "2014-12-01      25900.0     24979.813602\n",
       "2014-12-02      25900.0     25288.892300\n",
       "2014-12-03      25960.0     25525.598537\n",
       "...                 ...              ...\n",
       "2020-12-23      73900.0     72900.693081\n",
       "2020-12-24      77800.0     73233.378827\n",
       "2020-12-28      78700.0     74906.924081\n",
       "2020-12-29      78300.0     76281.958473\n",
       "2020-12-30      81000.0     77005.432744\n",
       "\n",
       "[1497 rows x 2 columns]"
      ]
     },
     "execution_count": 56,
     "metadata": {},
     "output_type": "execute_result"
    }
   ],
   "source": [
    "test"
   ]
  },
  {
   "cell_type": "markdown",
   "id": "0f47bc68",
   "metadata": {},
   "source": [
    "# Visualizing Predicted Data"
   ]
  },
  {
   "cell_type": "code",
   "execution_count": 63,
   "id": "a92ce4c0",
   "metadata": {},
   "outputs": [
    {
     "data": {
      "text/plain": [
       "<matplotlib.legend.Legend at 0x26224413f40>"
      ]
     },
     "execution_count": 63,
     "metadata": {},
     "output_type": "execute_result"
    },
    {
     "data": {
      "image/png": "[encoded data removed]",
      "text/plain": [
       "<Figure size 1152x720 with 1 Axes>"
      ]
     },
     "metadata": {
      "needs_background": "light"
     },
     "output_type": "display_data"
    }
   ],
   "source": [
    "plt.figure(figsize = (16,10))\n",
    "ax=plt.axes()\n",
    "ax.set_facecolor(\"black\")\n",
    "plt.plot(train, label = \"Training\")\n",
    "plt.plot(test, label = \"Testing\",color=\"green\")\n",
    "plt.plot(prediction, label = \"Prediction\")\n",
    "plt.legend()"
   ]
  },
  {
   "cell_type": "code",
   "execution_count": null,
   "id": "606b3cf5",
   "metadata": {},
   "outputs": [],
   "source": []
  },
  {
   "cell_type": "code",
   "execution_count": null,
   "id": "e9467ca1",
   "metadata": {},
   "outputs": [],
   "source": []
  }
 ],
 "metadata": {
  "kernelspec": {
   "display_name": "Python 3",
   "language": "python",
   "name": "python3"
  },
  "language_info": {
   "codemirror_mode": {
    "name": "ipython",
    "version": 3
   },
   "file_extension": ".py",
   "mimetype": "text/x-python",
   "name": "python",
   "nbconvert_exporter": "python",
   "pygments_lexer": "ipython3",
   "version": "3.8.8"
  }
 },
 "nbformat": 4,
 "nbformat_minor": 5
}
